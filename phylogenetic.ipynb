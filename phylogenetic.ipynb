{
 "cells": [
  {
   "cell_type": "code",
   "execution_count": 35,
   "metadata": {},
   "outputs": [],
   "source": [
    "from Bio import Entrez, AlignIO, Phylo, SeqIO, Align\n",
    "from Bio.SeqRecord import SeqRecord\n",
    "from Bio.Phylo.TreeConstruction import DistanceCalculator, DistanceTreeConstructor\n",
    "import os\n",
    "import matplotlib.pyplot as plt"
   ]
  },
  {
   "cell_type": "code",
   "execution_count": 7,
   "metadata": {},
   "outputs": [],
   "source": [
    "gene_ids = [\"NM_001113530\", \"NM_027627\", \"NM_001355055\", \"NM_001313744\", \"NM_001099328\", \"NM_001312908\", \"NM_026952\", \"NM_178020\", \"NM_001142647\", \"NM_017375\"]\n",
    "output_file = \"phylo_tree.nwk\"\n",
    "\n",
    "Entrez.email = \"your_email@example.com\" \n",
    "for gene_id in gene_ids:\n",
    "    handle = Entrez.efetch(db=\"nucleotide\", id=gene_id, rettype=\"fasta\")\n",
    "    record = AlignIO.read(handle, \"fasta\")\n",
    "    handle.close()\n",
    "    record.id = gene_id\n",
    "    AlignIO.write([record], \"sequences.fasta\", \"fasta\")"
   ]
  },
  {
   "cell_type": "code",
   "execution_count": 20,
   "metadata": {},
   "outputs": [],
   "source": [
    "# Read sequences from a file\n",
    "sequences_file = \"sequences.fasta\"\n",
    "sequences = list(SeqIO.parse(sequences_file, \"fasta\"))\n",
    "\n",
    "# Create a substitution matrix (optional, you can customize this)\n",
    "substitution_matrix = Align.PairwiseAligner().substitution_matrix\n",
    "\n",
    "# Create a PairwiseAligner\n",
    "\n",
    "aligner = Align.PairwiseAligner()\n",
    "alignments = [aligner.align(seq1.seq, seq2.seq) for seq1 in sequences for seq2 in sequences]\n"
   ]
  },
  {
   "cell_type": "code",
   "execution_count": 33,
   "metadata": {},
   "outputs": [
    {
     "data": {
      "text/plain": [
       "[Seq('TGGTGGGAAGGCCGGGCTGTCTGCGGAGCTCGCTGGTCCGAGTGTCCCGCATCG...CTT'),\n",
       " Seq('TGGTGGGAAGGCCGGGCTGTCTGCGGAGCTCGCTGGTCCGAGTGTCCCGCATCG...CTT')]"
      ]
     },
     "execution_count": 33,
     "metadata": {},
     "output_type": "execute_result"
    }
   ],
   "source": [
    "alignments[0].sequences"
   ]
  },
  {
   "cell_type": "code",
   "execution_count": 44,
   "metadata": {},
   "outputs": [],
   "source": [
    "alignment = Align.MultipleSeqAlignment([SeqRecord(alignment) for i, alignment in enumerate(alignments[0].sequences)])"
   ]
  },
  {
   "cell_type": "code",
   "execution_count": 42,
   "metadata": {},
   "outputs": [
    {
     "ename": "ValueError",
     "evalue": "Duplicate names found",
     "output_type": "error",
     "traceback": [
      "\u001b[1;31m---------------------------------------------------------------------------\u001b[0m",
      "\u001b[1;31mValueError\u001b[0m                                Traceback (most recent call last)",
      "Cell \u001b[1;32mIn[42], line 2\u001b[0m\n\u001b[0;32m      1\u001b[0m calculator \u001b[38;5;241m=\u001b[39m DistanceCalculator(\u001b[38;5;124m\"\u001b[39m\u001b[38;5;124midentity\u001b[39m\u001b[38;5;124m\"\u001b[39m)\n\u001b[1;32m----> 2\u001b[0m dma \u001b[38;5;241m=\u001b[39m \u001b[43mcalculator\u001b[49m\u001b[38;5;241;43m.\u001b[39;49m\u001b[43mget_distance\u001b[49m\u001b[43m(\u001b[49m\u001b[43malignment\u001b[49m\u001b[43m)\u001b[49m\n\u001b[0;32m      3\u001b[0m \u001b[38;5;66;03m# constructor = DistanceTreeConstructor(calculator, method=\"nj\")\u001b[39;00m\n\u001b[0;32m      4\u001b[0m \u001b[38;5;66;03m# tree = constructor.build_tree(dm)\u001b[39;00m\n\u001b[0;32m      5\u001b[0m \n\u001b[0;32m      6\u001b[0m \u001b[38;5;66;03m# Draw and display the phylogenetic tree\u001b[39;00m\n\u001b[0;32m      7\u001b[0m \u001b[38;5;66;03m# Phylo.draw(tree)\u001b[39;00m\n",
      "File \u001b[1;32md:\\grispr\\venv\\lib\\site-packages\\Bio\\Phylo\\TreeConstruction.py:566\u001b[0m, in \u001b[0;36mDistanceCalculator.get_distance\u001b[1;34m(self, msa)\u001b[0m\n\u001b[0;32m    564\u001b[0m \u001b[38;5;28;01melif\u001b[39;00m \u001b[38;5;28misinstance\u001b[39m(msa, MultipleSeqAlignment):\n\u001b[0;32m    565\u001b[0m     names \u001b[38;5;241m=\u001b[39m [s\u001b[38;5;241m.\u001b[39mid \u001b[38;5;28;01mfor\u001b[39;00m s \u001b[38;5;129;01min\u001b[39;00m msa]\n\u001b[1;32m--> 566\u001b[0m     dm \u001b[38;5;241m=\u001b[39m \u001b[43mDistanceMatrix\u001b[49m\u001b[43m(\u001b[49m\u001b[43mnames\u001b[49m\u001b[43m)\u001b[49m\n\u001b[0;32m    567\u001b[0m     \u001b[38;5;28;01mfor\u001b[39;00m seq1, seq2 \u001b[38;5;129;01min\u001b[39;00m itertools\u001b[38;5;241m.\u001b[39mcombinations(msa, \u001b[38;5;241m2\u001b[39m):\n\u001b[0;32m    568\u001b[0m         dm[seq1\u001b[38;5;241m.\u001b[39mid, seq2\u001b[38;5;241m.\u001b[39mid] \u001b[38;5;241m=\u001b[39m \u001b[38;5;28mself\u001b[39m\u001b[38;5;241m.\u001b[39m_pairwise(seq1, seq2)\n",
      "File \u001b[1;32md:\\grispr\\venv\\lib\\site-packages\\Bio\\Phylo\\TreeConstruction.py:322\u001b[0m, in \u001b[0;36mDistanceMatrix.__init__\u001b[1;34m(self, names, matrix)\u001b[0m\n\u001b[0;32m    320\u001b[0m \u001b[38;5;28;01mdef\u001b[39;00m \u001b[38;5;21m__init__\u001b[39m(\u001b[38;5;28mself\u001b[39m, names, matrix\u001b[38;5;241m=\u001b[39m\u001b[38;5;28;01mNone\u001b[39;00m):\n\u001b[0;32m    321\u001b[0m \u001b[38;5;250m    \u001b[39m\u001b[38;5;124;03m\"\"\"Initialize the class.\"\"\"\u001b[39;00m\n\u001b[1;32m--> 322\u001b[0m     \u001b[43m_Matrix\u001b[49m\u001b[38;5;241;43m.\u001b[39;49m\u001b[38;5;21;43m__init__\u001b[39;49m\u001b[43m(\u001b[49m\u001b[38;5;28;43mself\u001b[39;49m\u001b[43m,\u001b[49m\u001b[43m \u001b[49m\u001b[43mnames\u001b[49m\u001b[43m,\u001b[49m\u001b[43m \u001b[49m\u001b[43mmatrix\u001b[49m\u001b[43m)\u001b[49m\n\u001b[0;32m    323\u001b[0m     \u001b[38;5;28mself\u001b[39m\u001b[38;5;241m.\u001b[39m_set_zero_diagonal()\n",
      "File \u001b[1;32md:\\grispr\\venv\\lib\\site-packages\\Bio\\Phylo\\TreeConstruction.py:97\u001b[0m, in \u001b[0;36m_Matrix.__init__\u001b[1;34m(self, names, matrix)\u001b[0m\n\u001b[0;32m     95\u001b[0m         \u001b[38;5;28mself\u001b[39m\u001b[38;5;241m.\u001b[39mnames \u001b[38;5;241m=\u001b[39m names\n\u001b[0;32m     96\u001b[0m     \u001b[38;5;28;01melse\u001b[39;00m:\n\u001b[1;32m---> 97\u001b[0m         \u001b[38;5;28;01mraise\u001b[39;00m \u001b[38;5;167;01mValueError\u001b[39;00m(\u001b[38;5;124m\"\u001b[39m\u001b[38;5;124mDuplicate names found\u001b[39m\u001b[38;5;124m\"\u001b[39m)\n\u001b[0;32m     98\u001b[0m \u001b[38;5;28;01melse\u001b[39;00m:\n\u001b[0;32m     99\u001b[0m     \u001b[38;5;28;01mraise\u001b[39;00m \u001b[38;5;167;01mTypeError\u001b[39;00m(\u001b[38;5;124m\"\u001b[39m\u001b[38;5;124m'\u001b[39m\u001b[38;5;124mnames\u001b[39m\u001b[38;5;124m'\u001b[39m\u001b[38;5;124m should be a list of strings\u001b[39m\u001b[38;5;124m\"\u001b[39m)\n",
      "\u001b[1;31mValueError\u001b[0m: Duplicate names found"
     ]
    }
   ],
   "source": [
    "calculator = DistanceCalculator(\"identity\")\n",
    "dm = calculator.get_distance(alignment)\n",
    "# constructor = DistanceTreeConstructor(calculator, method=\"nj\")\n",
    "# tree = constructor.build_tree(dm)\n",
    "\n",
    "# Draw and display the phylogenetic tree\n",
    "# Phylo.draw(tree)"
   ]
  },
  {
   "cell_type": "code",
   "execution_count": null,
   "metadata": {},
   "outputs": [],
   "source": []
  }
 ],
 "metadata": {
  "kernelspec": {
   "display_name": "venv",
   "language": "python",
   "name": "python3"
  },
  "language_info": {
   "codemirror_mode": {
    "name": "ipython",
    "version": 3
   },
   "file_extension": ".py",
   "mimetype": "text/x-python",
   "name": "python",
   "nbconvert_exporter": "python",
   "pygments_lexer": "ipython3",
   "version": "3.10.13"
  }
 },
 "nbformat": 4,
 "nbformat_minor": 2
}
