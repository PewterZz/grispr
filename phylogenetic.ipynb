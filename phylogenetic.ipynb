{
 "cells": [
  {
   "cell_type": "code",
   "execution_count": 11,
   "metadata": {},
   "outputs": [],
   "source": [
    "from Bio import Entrez, AlignIO, Phylo, SeqIO, Align\n",
    "from Bio.SeqRecord import SeqRecord\n",
    "from Bio.Phylo.TreeConstruction import DistanceCalculator, DistanceTreeConstructor\n",
    "from Bio.Align import MultipleSeqAlignment\n",
    "import os\n",
    "import matplotlib.pyplot as plt"
   ]
  },
  {
   "cell_type": "code",
   "execution_count": 2,
   "metadata": {},
   "outputs": [],
   "source": [
    "gene_ids = [\"NM_001113530\", \"NM_027627\", \"NM_001355055\", \"NM_001313744\", \"NM_001099328\", \"NM_001312908\", \"NM_026952\", \"NM_178020\", \"NM_001142647\", \"NM_017375\"]\n",
    "\n",
    "Entrez.email = \"your_email@example.com\" \n",
    "def fetch_seq_record(gene_id):\n",
    "    handle = Entrez.efetch(db=\"nucleotide\", id=gene_id, rettype=\"gb\", retmode=\"text\")\n",
    "    record = SeqIO.read(handle, \"genbank\")\n",
    "    handle.close()\n",
    "    return record"
   ]
  },
  {
   "cell_type": "code",
   "execution_count": 4,
   "metadata": {},
   "outputs": [],
   "source": [
    "# Fetch SeqRecords for each gene ID\n",
    "seq_records = [fetch_seq_record(gene_id) for gene_id in gene_ids]"
   ]
  },
  {
   "cell_type": "code",
   "execution_count": 17,
   "metadata": {},
   "outputs": [
    {
     "name": "stdout",
     "output_type": "stream",
     "text": [
      "2324\n",
      "2222\n",
      "1618\n",
      "3263\n",
      "9807\n",
      "4954\n",
      "4846\n",
      "1830\n",
      "3423\n",
      "1714\n"
     ]
    }
   ],
   "source": [
    "for seq in seq_records:\n",
    "    print(len(seq.seq))"
   ]
  },
  {
   "cell_type": "code",
   "execution_count": 12,
   "metadata": {},
   "outputs": [
    {
     "ename": "ValueError",
     "evalue": "Sequences must all be the same length",
     "output_type": "error",
     "traceback": [
      "\u001b[1;31m---------------------------------------------------------------------------\u001b[0m",
      "\u001b[1;31mValueError\u001b[0m                                Traceback (most recent call last)",
      "Cell \u001b[1;32mIn[12], line 1\u001b[0m\n\u001b[1;32m----> 1\u001b[0m \u001b[43mMultipleSeqAlignment\u001b[49m\u001b[43m(\u001b[49m\u001b[43mseq_records\u001b[49m\u001b[43m)\u001b[49m\n",
      "File \u001b[1;32md:\\grispr\\venv\\lib\\site-packages\\Bio\\Align\\__init__.py:179\u001b[0m, in \u001b[0;36mMultipleSeqAlignment.__init__\u001b[1;34m(self, records, alphabet, annotations, column_annotations)\u001b[0m\n\u001b[0;32m    177\u001b[0m \u001b[38;5;28mself\u001b[39m\u001b[38;5;241m.\u001b[39m_records \u001b[38;5;241m=\u001b[39m []\n\u001b[0;32m    178\u001b[0m \u001b[38;5;28;01mif\u001b[39;00m records:\n\u001b[1;32m--> 179\u001b[0m     \u001b[38;5;28;43mself\u001b[39;49m\u001b[38;5;241;43m.\u001b[39;49m\u001b[43mextend\u001b[49m\u001b[43m(\u001b[49m\u001b[43mrecords\u001b[49m\u001b[43m)\u001b[49m\n\u001b[0;32m    181\u001b[0m \u001b[38;5;66;03m# Annotations about the whole alignment\u001b[39;00m\n\u001b[0;32m    182\u001b[0m \u001b[38;5;28;01mif\u001b[39;00m annotations \u001b[38;5;129;01mis\u001b[39;00m \u001b[38;5;28;01mNone\u001b[39;00m:\n",
      "File \u001b[1;32md:\\grispr\\venv\\lib\\site-packages\\Bio\\Align\\__init__.py:487\u001b[0m, in \u001b[0;36mMultipleSeqAlignment.extend\u001b[1;34m(self, records)\u001b[0m\n\u001b[0;32m    484\u001b[0m     \u001b[38;5;66;03m# Now continue to the rest of the records as usual\u001b[39;00m\n\u001b[0;32m    486\u001b[0m \u001b[38;5;28;01mfor\u001b[39;00m rec \u001b[38;5;129;01min\u001b[39;00m records:\n\u001b[1;32m--> 487\u001b[0m     \u001b[38;5;28;43mself\u001b[39;49m\u001b[38;5;241;43m.\u001b[39;49m\u001b[43m_append\u001b[49m\u001b[43m(\u001b[49m\u001b[43mrec\u001b[49m\u001b[43m,\u001b[49m\u001b[43m \u001b[49m\u001b[43mexpected_length\u001b[49m\u001b[43m)\u001b[49m\n",
      "File \u001b[1;32md:\\grispr\\venv\\lib\\site-packages\\Bio\\Align\\__init__.py:549\u001b[0m, in \u001b[0;36mMultipleSeqAlignment._append\u001b[1;34m(self, record, expected_length)\u001b[0m\n\u001b[0;32m    542\u001b[0m \u001b[38;5;66;03m# Currently the get_alignment_length() call is expensive, so we need\u001b[39;00m\n\u001b[0;32m    543\u001b[0m \u001b[38;5;66;03m# to avoid calling it repeatedly for __init__ and extend, hence this\u001b[39;00m\n\u001b[0;32m    544\u001b[0m \u001b[38;5;66;03m# private _append method\u001b[39;00m\n\u001b[0;32m    545\u001b[0m \u001b[38;5;28;01mif\u001b[39;00m expected_length \u001b[38;5;129;01mis\u001b[39;00m \u001b[38;5;129;01mnot\u001b[39;00m \u001b[38;5;28;01mNone\u001b[39;00m \u001b[38;5;129;01mand\u001b[39;00m \u001b[38;5;28mlen\u001b[39m(record) \u001b[38;5;241m!=\u001b[39m expected_length:\n\u001b[0;32m    546\u001b[0m     \u001b[38;5;66;03m# TODO - Use the following more helpful error, but update unit tests\u001b[39;00m\n\u001b[0;32m    547\u001b[0m     \u001b[38;5;66;03m# raise ValueError(\"New sequence is not of length %i\"\u001b[39;00m\n\u001b[0;32m    548\u001b[0m     \u001b[38;5;66;03m#                  % self.get_alignment_length())\u001b[39;00m\n\u001b[1;32m--> 549\u001b[0m     \u001b[38;5;28;01mraise\u001b[39;00m \u001b[38;5;167;01mValueError\u001b[39;00m(\u001b[38;5;124m\"\u001b[39m\u001b[38;5;124mSequences must all be the same length\u001b[39m\u001b[38;5;124m\"\u001b[39m)\n\u001b[0;32m    551\u001b[0m \u001b[38;5;28mself\u001b[39m\u001b[38;5;241m.\u001b[39m_records\u001b[38;5;241m.\u001b[39mappend(record)\n",
      "\u001b[1;31mValueError\u001b[0m: Sequences must all be the same length"
     ]
    }
   ],
   "source": [
    "alignments = MultipleSeqAlignment(seq_records)"
   ]
  },
  {
   "cell_type": "code",
   "execution_count": null,
   "metadata": {},
   "outputs": [],
   "source": [
    "Phylo.draw(tree)"
   ]
  }
 ],
 "metadata": {
  "kernelspec": {
   "display_name": "venv",
   "language": "python",
   "name": "python3"
  },
  "language_info": {
   "codemirror_mode": {
    "name": "ipython",
    "version": 3
   },
   "file_extension": ".py",
   "mimetype": "text/x-python",
   "name": "python",
   "nbconvert_exporter": "python",
   "pygments_lexer": "ipython3",
   "version": "3.10.13"
  }
 },
 "nbformat": 4,
 "nbformat_minor": 2
}
