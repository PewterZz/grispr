{
 "cells": [
  {
   "cell_type": "code",
   "execution_count": 1,
   "metadata": {},
   "outputs": [],
   "source": [
    "import random\n",
    "import matplotlib.pyplot as plt\n",
    "import pandas as pd\n",
    "from ete3 import Tree"
   ]
  },
  {
   "cell_type": "code",
   "execution_count": 2,
   "metadata": {},
   "outputs": [],
   "source": [
    "genes = []\n",
    "mutation_rate = 0.1"
   ]
  },
  {
   "cell_type": "code",
   "execution_count": 3,
   "metadata": {},
   "outputs": [],
   "source": [
    "fitness_df = pd.read_csv(\"fitness.csv\")"
   ]
  },
  {
   "cell_type": "code",
   "execution_count": 4,
   "metadata": {},
   "outputs": [],
   "source": [
    "data = \"\"\n",
    "with open(\"./Refs/mp.txt\", 'r') as file:\n",
    "    data = file.read()\n",
    "\n",
    "terms = data.strip().split(\"[Term]\\n\")\n",
    "arr = []\n",
    "for term in terms:\n",
    "    if term:\n",
    "        lines = term.strip().split(\"\\n\")\n",
    "        term_data = {\n",
    "            \"id\": \"\",\n",
    "        }\n",
    "    \n",
    "        for line in lines:\n",
    "            if line:\n",
    "                if \":\" in line:\n",
    "                    key, value = line.split(\":\", 1)\n",
    "                    key = key.strip().lower()\n",
    "                    if key == \"id\":\n",
    "                        term_data[\"id\"] = value.strip()\n",
    "            arr.append(term_data)\n",
    "    df = pd.DataFrame(arr)"
   ]
  },
  {
   "cell_type": "code",
   "execution_count": 5,
   "metadata": {},
   "outputs": [],
   "source": [
    "df = df[\"id\"].unique()"
   ]
  },
  {
   "cell_type": "code",
   "execution_count": 6,
   "metadata": {},
   "outputs": [],
   "source": [
    "fitness_scores = []\n",
    "for i in range(len(fitness_df)):\n",
    "    for j in range(len(df)):\n",
    "        if fitness_df[\"id\"][i] == df[j]:\n",
    "            fitness_scores.append(fitness_df[\"fitness_score\"][i])"
   ]
  },
  {
   "cell_type": "code",
   "execution_count": 7,
   "metadata": {},
   "outputs": [],
   "source": [
    "df = pd.DataFrame([{\"id\": id, \"fitness\": fitness} for id, fitness in zip(df, fitness_scores)])"
   ]
  },
  {
   "cell_type": "code",
   "execution_count": 8,
   "metadata": {},
   "outputs": [
    {
     "data": {
      "text/html": [
       "<div>\n",
       "<style scoped>\n",
       "    .dataframe tbody tr th:only-of-type {\n",
       "        vertical-align: middle;\n",
       "    }\n",
       "\n",
       "    .dataframe tbody tr th {\n",
       "        vertical-align: top;\n",
       "    }\n",
       "\n",
       "    .dataframe thead th {\n",
       "        text-align: right;\n",
       "    }\n",
       "</style>\n",
       "<table border=\"1\" class=\"dataframe\">\n",
       "  <thead>\n",
       "    <tr style=\"text-align: right;\">\n",
       "      <th></th>\n",
       "      <th>id</th>\n",
       "      <th>fitness</th>\n",
       "    </tr>\n",
       "  </thead>\n",
       "  <tbody>\n",
       "    <tr>\n",
       "      <th>0</th>\n",
       "      <td>MP:0004738</td>\n",
       "      <td>-6</td>\n",
       "    </tr>\n",
       "    <tr>\n",
       "      <th>1</th>\n",
       "      <td>MP:0002638</td>\n",
       "      <td>0</td>\n",
       "    </tr>\n",
       "    <tr>\n",
       "      <th>2</th>\n",
       "      <td>MP:0000376</td>\n",
       "      <td>0</td>\n",
       "    </tr>\n",
       "    <tr>\n",
       "      <th>3</th>\n",
       "      <td>MP:0003449</td>\n",
       "      <td>-6</td>\n",
       "    </tr>\n",
       "    <tr>\n",
       "      <th>4</th>\n",
       "      <td>MP:0000410</td>\n",
       "      <td>-6</td>\n",
       "    </tr>\n",
       "    <tr>\n",
       "      <th>5</th>\n",
       "      <td>MP:0000923</td>\n",
       "      <td>-1</td>\n",
       "    </tr>\n",
       "    <tr>\n",
       "      <th>6</th>\n",
       "      <td>MP:0001713</td>\n",
       "      <td>-6</td>\n",
       "    </tr>\n",
       "    <tr>\n",
       "      <th>7</th>\n",
       "      <td>MP:0002276</td>\n",
       "      <td>-2</td>\n",
       "    </tr>\n",
       "    <tr>\n",
       "      <th>8</th>\n",
       "      <td>MP:0001191</td>\n",
       "      <td>1</td>\n",
       "    </tr>\n",
       "    <tr>\n",
       "      <th>9</th>\n",
       "      <td>MP:0000130</td>\n",
       "      <td>-6</td>\n",
       "    </tr>\n",
       "  </tbody>\n",
       "</table>\n",
       "</div>"
      ],
      "text/plain": [
       "           id  fitness\n",
       "0  MP:0004738       -6\n",
       "1  MP:0002638        0\n",
       "2  MP:0000376        0\n",
       "3  MP:0003449       -6\n",
       "4  MP:0000410       -6\n",
       "5  MP:0000923       -1\n",
       "6  MP:0001713       -6\n",
       "7  MP:0002276       -2\n",
       "8  MP:0001191        1\n",
       "9  MP:0000130       -6"
      ]
     },
     "execution_count": 8,
     "metadata": {},
     "output_type": "execute_result"
    }
   ],
   "source": [
    "df"
   ]
  },
  {
   "cell_type": "code",
   "execution_count": 9,
   "metadata": {},
   "outputs": [],
   "source": [
    "class Rat:\n",
    "    def __init__(self, id, mps, fitness):\n",
    "        self.id = id\n",
    "        self.mps = mps\n",
    "        self.fitness = fitness\n",
    "    \n",
    "    def show(self):\n",
    "        return f\"(fitness:{self.fitness})\"\n",
    "    \n",
    "    def select_random_gene(self):\n",
    "        return [random.choice(self.mps) for _ in range(5)]\n",
    "    \n",
    "    def __repr__(self):\n",
    "        return f\"{self.id}f{self.fitness}\"\n",
    "    \n",
    "    def __str__(self):\n",
    "        return f\"{self.id}f{self.fitness}\""
   ]
  },
  {
   "cell_type": "code",
   "execution_count": 24,
   "metadata": {},
   "outputs": [],
   "source": [
    "def breed(rat1, rat2):\n",
    "    genes = [rat1.select_random_gene(), rat2.select_random_gene()]\n",
    "    fit = 0\n",
    "    identity = chr(ord(rat1.id[0]) + 1) + str(random.randint(1, 100)) if ord(rat1.id[0]) < 90 else chr(65) \n",
    "    for i in genes:\n",
    "        for j in range(len(df)):\n",
    "            if df[\"id\"][j] == i:\n",
    "                fit += int(df[\"fitness\"][j])\n",
    "    return Rat(identity, genes, fit)"
   ]
  },
  {
   "cell_type": "code",
   "execution_count": 25,
   "metadata": {},
   "outputs": [],
   "source": [
    "rats = [Rat(f\"A{random.randint(1, 100)}\", df[\"id\"].tolist(), sum(list(map(lambda f: f, df[\"fitness\"])))), Rat(f\"A{random.randint(1, 100)}\", df[\"id\"].tolist(), sum(list(map(lambda f: f, df[\"fitness\"]))))]"
   ]
  },
  {
   "cell_type": "code",
   "execution_count": 28,
   "metadata": {},
   "outputs": [],
   "source": [
    "def generate_newick_tree():\n",
    "    tree = []\n",
    "    prev_gen = [random.choice(rats), random.choice(rats)]\n",
    "    tree.append(prev_gen)\n",
    "    for i in range(1, 100):\n",
    "        current_gen = [breed(random.choice(prev_gen), random.choice(prev_gen)) for _ in range(8, 16)]\n",
    "        prev_gen.insert(1, current_gen)\n",
    "        prev_gen = current_gen\n",
    "    \n",
    "    return tree\n",
    "\n",
    "tree = str(generate_newick_tree())      "
   ]
  },
  {
   "cell_type": "code",
   "execution_count": 29,
   "metadata": {},
   "outputs": [],
   "source": [
    "tree = tree.replace(\"[\", \"(\").replace(\"]\", \")\")[1: -1] + \";\""
   ]
  },
  {
   "cell_type": "code",
   "execution_count": 35,
   "metadata": {},
   "outputs": [],
   "source": [
    "with open(\"test.txt\", \"w\") as f:\n",
    "    f.write(str(Tree(tree)))"
   ]
  },
  {
   "cell_type": "code",
   "execution_count": null,
   "metadata": {},
   "outputs": [],
   "source": []
  }
 ],
 "metadata": {
  "kernelspec": {
   "display_name": "venv",
   "language": "python",
   "name": "python3"
  },
  "language_info": {
   "codemirror_mode": {
    "name": "ipython",
    "version": 3
   },
   "file_extension": ".py",
   "mimetype": "text/x-python",
   "name": "python",
   "nbconvert_exporter": "python",
   "pygments_lexer": "ipython3",
   "version": "3.10.13"
  }
 },
 "nbformat": 4,
 "nbformat_minor": 2
}
