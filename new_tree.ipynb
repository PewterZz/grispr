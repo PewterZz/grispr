{
 "cells": [
  {
   "cell_type": "code",
   "execution_count": 30,
   "metadata": {},
   "outputs": [],
   "source": [
    "import networkx as nx\n",
    "import random\n",
    "import matplotlib.pyplot as plt\n",
    "import pandas as pd\n",
    "from io import StringIO\n",
    "from Bio import Phylo"
   ]
  },
  {
   "cell_type": "code",
   "execution_count": 31,
   "metadata": {},
   "outputs": [],
   "source": [
    "genes = []\n",
    "mutation_rate = 0.1"
   ]
  },
  {
   "cell_type": "code",
   "execution_count": 32,
   "metadata": {},
   "outputs": [],
   "source": [
    "fitness_df = pd.read_csv(\"fitness.csv\")"
   ]
  },
  {
   "cell_type": "code",
   "execution_count": 33,
   "metadata": {},
   "outputs": [],
   "source": [
    "data = \"\"\n",
    "with open(\"./Refs/mp.txt\", 'r') as file:\n",
    "    data = file.read()\n",
    "\n",
    "terms = data.strip().split(\"[Term]\\n\")\n",
    "arr = []\n",
    "for term in terms:\n",
    "    if term:\n",
    "        lines = term.strip().split(\"\\n\")\n",
    "        term_data = {\n",
    "            \"id\": \"\",\n",
    "        }\n",
    "    \n",
    "        for line in lines:\n",
    "            if line:\n",
    "                if \":\" in line:\n",
    "                    key, value = line.split(\":\", 1)\n",
    "                    key = key.strip().lower()\n",
    "                    if key == \"id\":\n",
    "                        term_data[\"id\"] = value.strip()\n",
    "            arr.append(term_data)\n",
    "    df = pd.DataFrame(arr)"
   ]
  },
  {
   "cell_type": "code",
   "execution_count": 34,
   "metadata": {},
   "outputs": [],
   "source": [
    "df = df[\"id\"].unique()"
   ]
  },
  {
   "cell_type": "code",
   "execution_count": 35,
   "metadata": {},
   "outputs": [],
   "source": [
    "fitness_scores = []\n",
    "for i in range(len(fitness_df)):\n",
    "    for j in range(len(df)):\n",
    "        if fitness_df[\"id\"][i] == df[j]:\n",
    "            fitness_scores.append(fitness_df[\"fitness_score\"][i])"
   ]
  },
  {
   "cell_type": "code",
   "execution_count": 36,
   "metadata": {},
   "outputs": [],
   "source": [
    "df = pd.DataFrame([{\"id\": id, \"fitness\": fitness} for id, fitness in zip(df, fitness_scores)])"
   ]
  },
  {
   "cell_type": "code",
   "execution_count": 37,
   "metadata": {},
   "outputs": [
    {
     "data": {
      "text/html": [
       "<div>\n",
       "<style scoped>\n",
       "    .dataframe tbody tr th:only-of-type {\n",
       "        vertical-align: middle;\n",
       "    }\n",
       "\n",
       "    .dataframe tbody tr th {\n",
       "        vertical-align: top;\n",
       "    }\n",
       "\n",
       "    .dataframe thead th {\n",
       "        text-align: right;\n",
       "    }\n",
       "</style>\n",
       "<table border=\"1\" class=\"dataframe\">\n",
       "  <thead>\n",
       "    <tr style=\"text-align: right;\">\n",
       "      <th></th>\n",
       "      <th>id</th>\n",
       "      <th>fitness</th>\n",
       "    </tr>\n",
       "  </thead>\n",
       "  <tbody>\n",
       "    <tr>\n",
       "      <th>0</th>\n",
       "      <td>MP:0004738</td>\n",
       "      <td>-6</td>\n",
       "    </tr>\n",
       "    <tr>\n",
       "      <th>1</th>\n",
       "      <td>MP:0002638</td>\n",
       "      <td>0</td>\n",
       "    </tr>\n",
       "    <tr>\n",
       "      <th>2</th>\n",
       "      <td>MP:0000376</td>\n",
       "      <td>0</td>\n",
       "    </tr>\n",
       "    <tr>\n",
       "      <th>3</th>\n",
       "      <td>MP:0003449</td>\n",
       "      <td>-6</td>\n",
       "    </tr>\n",
       "    <tr>\n",
       "      <th>4</th>\n",
       "      <td>MP:0000410</td>\n",
       "      <td>-6</td>\n",
       "    </tr>\n",
       "    <tr>\n",
       "      <th>5</th>\n",
       "      <td>MP:0000923</td>\n",
       "      <td>-1</td>\n",
       "    </tr>\n",
       "    <tr>\n",
       "      <th>6</th>\n",
       "      <td>MP:0001713</td>\n",
       "      <td>-6</td>\n",
       "    </tr>\n",
       "    <tr>\n",
       "      <th>7</th>\n",
       "      <td>MP:0002276</td>\n",
       "      <td>-2</td>\n",
       "    </tr>\n",
       "    <tr>\n",
       "      <th>8</th>\n",
       "      <td>MP:0001191</td>\n",
       "      <td>1</td>\n",
       "    </tr>\n",
       "    <tr>\n",
       "      <th>9</th>\n",
       "      <td>MP:0000130</td>\n",
       "      <td>-6</td>\n",
       "    </tr>\n",
       "  </tbody>\n",
       "</table>\n",
       "</div>"
      ],
      "text/plain": [
       "           id  fitness\n",
       "0  MP:0004738       -6\n",
       "1  MP:0002638        0\n",
       "2  MP:0000376        0\n",
       "3  MP:0003449       -6\n",
       "4  MP:0000410       -6\n",
       "5  MP:0000923       -1\n",
       "6  MP:0001713       -6\n",
       "7  MP:0002276       -2\n",
       "8  MP:0001191        1\n",
       "9  MP:0000130       -6"
      ]
     },
     "execution_count": 37,
     "metadata": {},
     "output_type": "execute_result"
    }
   ],
   "source": [
    "df"
   ]
  },
  {
   "cell_type": "code",
   "execution_count": 38,
   "metadata": {},
   "outputs": [],
   "source": [
    "G = nx.Graph()\n",
    "G.add_nodes_from([f\"'id': {id}, 'fitness': {fitness}\" for id, fitness in zip(df[\"id\"], df[\"fitness\"])])"
   ]
  },
  {
   "cell_type": "code",
   "execution_count": 40,
   "metadata": {},
   "outputs": [],
   "source": [
    "class Rat:\n",
    "    def __init__(self, mps, fitness):\n",
    "        self.id = random.randint(0, 10)\n",
    "        self.mps = mps\n",
    "        self.fitness = fitness\n",
    "    \n",
    "    def show(self):\n",
    "        return f\"(fitness:{self.fitness})\"\n",
    "    \n",
    "    def select_random_gene(self):\n",
    "        return random.choice(self.mps)"
   ]
  },
  {
   "cell_type": "code",
   "execution_count": 41,
   "metadata": {},
   "outputs": [],
   "source": [
    "rats = []\n",
    "sample_gene = [{'id': id, 'fitness': fitness} for id, fitness in zip(df[\"id\"], df[\"fitness\"])]\n",
    "for _ in range(5):\n",
    "    s = []\n",
    "    for _ in range(2):\n",
    "        n = random.randint(0, len(sample_gene) - 1)\n",
    "        s.append(sample_gene[n])\n",
    "        sample_gene.remove(sample_gene[n])\n",
    "    \n",
    "    rats.append(Rat(list(map(lambda sq: sq[\"id\"], s)), sum(list(map(lambda sq: sq[\"fitness\"], s)))))"
   ]
  },
  {
   "cell_type": "code",
   "execution_count": 42,
   "metadata": {},
   "outputs": [
    {
     "data": {
      "text/plain": [
       "[['MP:0000376', 'MP:0000410'],\n",
       " ['MP:0003449', 'MP:0004738'],\n",
       " ['MP:0002276', 'MP:0001191'],\n",
       " ['MP:0000923', 'MP:0001713'],\n",
       " ['MP:0000130', 'MP:0002638']]"
      ]
     },
     "execution_count": 42,
     "metadata": {},
     "output_type": "execute_result"
    }
   ],
   "source": [
    "list(map(lambda r: r.mps, rats))"
   ]
  },
  {
   "cell_type": "code",
   "execution_count": 63,
   "metadata": {},
   "outputs": [],
   "source": [
    "def breed(rat1, rat2):\n",
    "    genes = [rat1.select_random_gene(), rat2.select_random_gene()]\n",
    "    fit = 0\n",
    "    for i in genes:\n",
    "        for j in range(len(df)):\n",
    "            if df[\"id\"][j] == i:\n",
    "                fit += int(df[\"fitness\"][j])\n",
    "    return Rat(genes, fit)"
   ]
  },
  {
   "cell_type": "code",
   "execution_count": null,
   "metadata": {},
   "outputs": [],
   "source": []
  }
 ],
 "metadata": {
  "kernelspec": {
   "display_name": "venv",
   "language": "python",
   "name": "python3"
  },
  "language_info": {
   "codemirror_mode": {
    "name": "ipython",
    "version": 3
   },
   "file_extension": ".py",
   "mimetype": "text/x-python",
   "name": "python",
   "nbconvert_exporter": "python",
   "pygments_lexer": "ipython3",
   "version": "3.10.13"
  }
 },
 "nbformat": 4,
 "nbformat_minor": 2
}
