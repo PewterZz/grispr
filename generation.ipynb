{
 "cells": [
  {
   "cell_type": "code",
   "execution_count": 43,
   "metadata": {},
   "outputs": [
    {
     "name": "stdout",
     "output_type": "stream",
     "text": [
      "Rat 1: Genome: ['MP:0002638', 'MP:0004738', 'MP:0000410', 'MP:0000130', 'MP:0001713', 'MP:0000923', 'MP:0001191', 'MP:0000376', 'MP:0003449', 'MP:0002276'], Fitness: -3.20\n",
      "Rat 2: Genome: ['MP:0004738', 'MP:0000130', 'MP:0002638', 'MP:0002276', 'MP:0001713', 'MP:0000410', 'MP:0001191', 'MP:0000376', 'MP:0003449', 'MP:0000923'], Fitness: -3.20\n",
      "Rat 3: Genome: ['MP:0003449', 'MP:0002276', 'MP:0000410', 'MP:0001713', 'MP:0004738', 'MP:0002638', 'MP:0000130', 'MP:0001191', 'MP:0000376', 'MP:0000923'], Fitness: -3.20\n",
      "Rat 4: Genome: ['MP:0003449', 'MP:0000923', 'MP:0002638', 'MP:0004738', 'MP:0000130', 'MP:0001713', 'MP:0000376', 'MP:0002276', 'MP:0001191', 'MP:0000410'], Fitness: -3.20\n",
      "Rat 5: Genome: ['MP:0002276', 'MP:0001191', 'MP:0002638', 'MP:0003449', 'MP:0004738', 'MP:0000410', 'MP:0000376', 'MP:0001713', 'MP:0000130', 'MP:0000923'], Fitness: -3.20\n",
      "Rat 6: Genome: ['MP:0002638', 'MP:0004738', 'MP:0003449', 'MP:0001713', 'MP:0000376', 'MP:0001191', 'MP:0000130', 'MP:0000410', 'MP:0002276', 'MP:0000923'], Fitness: -3.20\n",
      "Rat 7: Genome: ['MP:0002276', 'MP:0000923', 'MP:0000376', 'MP:0000130', 'MP:0001713', 'MP:0002638', 'MP:0001191', 'MP:0003449', 'MP:0004738', 'MP:0000410'], Fitness: -3.20\n",
      "Rat 8: Genome: ['MP:0001191', 'MP:0003449', 'MP:0000376', 'MP:0000130', 'MP:0001713', 'MP:0002276', 'MP:0002638', 'MP:0000410', 'MP:0000923', 'MP:0004738'], Fitness: -3.20\n",
      "Rat 9: Genome: ['MP:0003449', 'MP:0004738', 'MP:0000923', 'MP:0000130', 'MP:0000376', 'MP:0001191', 'MP:0002638', 'MP:0002276', 'MP:0001713', 'MP:0000410'], Fitness: -3.20\n",
      "Rat 10: Genome: ['MP:0002276', 'MP:0001713', 'MP:0000130', 'MP:0002638', 'MP:0000376', 'MP:0001191', 'MP:0000410', 'MP:0000923', 'MP:0003449', 'MP:0004738'], Fitness: -3.20\n",
      "Rat 11: Genome: ['MP:0000130', 'MP:0001713', 'MP:0000923', 'MP:0002638', 'MP:0001191', 'MP:0000410', 'MP:0003449', 'MP:0004738', 'MP:0000376', 'MP:0002276'], Fitness: -3.20\n",
      "Rat 12: Genome: ['MP:0000376', 'MP:0000130', 'MP:0001713', 'MP:0000410', 'MP:0004738', 'MP:0003449', 'MP:0002276', 'MP:0001191', 'MP:0002638', 'MP:0000923'], Fitness: -3.20\n",
      "Rat 13: Genome: ['MP:0001191', 'MP:0004738', 'MP:0002638', 'MP:0000923', 'MP:0000410', 'MP:0000376', 'MP:0001713', 'MP:0000130', 'MP:0002276', 'MP:0003449'], Fitness: -3.20\n",
      "Rat 14: Genome: ['MP:0000376', 'MP:0002276', 'MP:0004738', 'MP:0000923', 'MP:0001713', 'MP:0000130', 'MP:0002638', 'MP:0000410', 'MP:0001191', 'MP:0003449'], Fitness: -3.20\n",
      "Rat 15: Genome: ['MP:0001191', 'MP:0003449', 'MP:0000376', 'MP:0002276', 'MP:0002638', 'MP:0000410', 'MP:0004738', 'MP:0001713', 'MP:0000923', 'MP:0000130'], Fitness: -3.20\n",
      "Rat 16: Genome: ['MP:0004738', 'MP:0002638', 'MP:0000923', 'MP:0001713', 'MP:0000376', 'MP:0001191', 'MP:0000130', 'MP:0003449', 'MP:0002276', 'MP:0000410'], Fitness: -3.20\n",
      "Rat 17: Genome: ['MP:0002276', 'MP:0002638', 'MP:0000376', 'MP:0001191', 'MP:0000923', 'MP:0003449', 'MP:0001713', 'MP:0000410', 'MP:0000130', 'MP:0004738'], Fitness: -3.20\n",
      "Rat 18: Genome: ['MP:0001191', 'MP:0003449', 'MP:0000410', 'MP:0000130', 'MP:0000923', 'MP:0000376', 'MP:0001713', 'MP:0002276', 'MP:0002638', 'MP:0004738'], Fitness: -3.20\n",
      "Rat 19: Genome: ['MP:0003449', 'MP:0000130', 'MP:0002638', 'MP:0000376', 'MP:0004738', 'MP:0000410', 'MP:0002276', 'MP:0001713', 'MP:0000923', 'MP:0001191'], Fitness: -3.20\n",
      "Rat 20: Genome: ['MP:0002638', 'MP:0004738', 'MP:0003449', 'MP:0001191', 'MP:0001713', 'MP:0000376', 'MP:0000923', 'MP:0000410', 'MP:0002276', 'MP:0000130'], Fitness: -3.20\n"
     ]
    }
   ],
   "source": [
    "import pandas as pd\n",
    "import random\n",
    "\n",
    "traits = {\n",
    "    'MP:0004738': None,  \n",
    "    'MP:0002638': None,  \n",
    "    'MP:0000376': None,\n",
    "    'MP:0003449': None,\n",
    "    'MP:0000410': None,\n",
    "    'MP:0000923': None,\n",
    "    'MP:0001713': None,\n",
    "    'MP:0002276': None,\n",
    "    'MP:0001191': None,\n",
    "    'MP:0000130': None\n",
    "}\n",
    "\n",
    "fitness_df = pd.read_csv('fitness.csv')\n",
    "for index, row in fitness_df.iterrows():\n",
    "    mp_id = row['id']\n",
    "    fitness_score = row['fitness_score']\n",
    "    if mp_id in traits:\n",
    "        traits[mp_id] = fitness_score\n",
    "        \n",
    "class Rat:\n",
    "    def __init__(self, genome=None):\n",
    "        self.genome = genome if genome else random.sample(list(traits.keys()), 10)\n",
    "\n",
    "    def fitness(self):\n",
    "        return sum(traits[trait] for trait in self.genome if traits[trait] is not None) / len(self.genome)\n",
    "    \n",
    "random.seed(42)\n",
    "num_rats = 20  \n",
    "population = [Rat() for _ in range(num_rats)]\n",
    "\n",
    "for i, rat in enumerate(population, 1):\n",
    "    print(f\"Rat {i}: Genome: {rat.genome}, Fitness: {rat.fitness():.2f}\")"
   ]
  },
  {
   "cell_type": "code",
   "execution_count": 72,
   "metadata": {},
   "outputs": [
    {
     "name": "stdout",
     "output_type": "stream",
     "text": [
      "Average fitness of final generation: 1.0\n"
     ]
    }
   ],
   "source": [
    "def mate(rat1, rat2):\n",
    "    child_genome = rat1.genome[:5] + rat2.genome[5:]\n",
    "    if random.random() < mutation_rate:\n",
    "        child_genome[random.randint(0, 9)] = random.choice(list(traits.keys()))\n",
    "    return Rat(genome=child_genome)\n",
    "\n",
    "generations = 100\n",
    "mutation_rate = 0.05 \n",
    "\n",
    "for _ in range(generations):\n",
    "    population.sort(key=lambda rat: rat.fitness(), reverse=True)\n",
    "    breeding_population = population[:num_rats // 2]\n",
    "\n",
    "    next_generation = []\n",
    "    while len(next_generation) < num_rats:\n",
    "        parent1, parent2 = random.sample(breeding_population, 2)\n",
    "        child = mate(parent1, parent2)\n",
    "        next_generation.append(child)\n",
    "\n",
    "    population = next_generation\n",
    "\n",
    "average_fitness = sum(rat.fitness() for rat in population) / num_rats\n",
    "print(\"Average fitness of final generation:\", average_fitness)\n"
   ]
  }
 ],
 "metadata": {
  "kernelspec": {
   "display_name": "bio",
   "language": "python",
   "name": "python3"
  },
  "language_info": {
   "codemirror_mode": {
    "name": "ipython",
    "version": 3
   },
   "file_extension": ".py",
   "mimetype": "text/x-python",
   "name": "python",
   "nbconvert_exporter": "python",
   "pygments_lexer": "ipython3",
   "version": "3.12.0"
  }
 },
 "nbformat": 4,
 "nbformat_minor": 2
}
