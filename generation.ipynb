{
 "cells": [
  {
   "cell_type": "code",
   "execution_count": 5,
   "metadata": {},
   "outputs": [
    {
     "name": "stdout",
     "output_type": "stream",
     "text": [
      "aver 4.8\n",
      "Average fitness of final generation: 6.212000000000001\n"
     ]
    }
   ],
   "source": [
    "import random\n",
    "\n",
    "traits = {\n",
    "    'MP:0004738': 3,  \n",
    "    'MP:0002638': 4,  \n",
    "    'MP:0000376': 7,\n",
    "    'MP:0003449': 5,\n",
    "    'MP:0000410': 10,\n",
    "    'MP:0000923': 3,\n",
    "    'MP:0001713': 2,\n",
    "    'MP:0002276': 4,\n",
    "    'MP:0001191': 6,\n",
    "    'MP:0000130': 4\n",
    "}\n",
    "\n",
    "print(\"aver\", (3+4+7+5+10+3+2+4+6+4)/10)\n",
    "\n",
    "population_size = 100  \n",
    "generations = 10  \n",
    "mutation_rate = 0.01  \n",
    "\n",
    "class Rat:\n",
    "    def __init__(self):\n",
    "        self.genome = random.sample(list(traits.keys()), 10)\n",
    "\n",
    "    def fitness(self):\n",
    "        return sum(traits[trait] for trait in self.genome) / len(self.genome)\n",
    "\n",
    "def mate(rat1, rat2):\n",
    "    child_genome = rat1.genome[:5] + rat2.genome[5:]\n",
    "    if random.random() < mutation_rate:\n",
    "        child_genome[random.randint(0, 9)] = random.choice(list(traits.keys()))\n",
    "    child = Rat()\n",
    "    child.genome = child_genome\n",
    "    return child\n",
    "\n",
    "population = [Rat() for _ in range(population_size)]\n",
    "\n",
    "for _ in range(generations):\n",
    "    population.sort(key=lambda rat: rat.fitness(), reverse=True)\n",
    "\n",
    "    breeding_population = population[:population_size // 2]\n",
    "\n",
    "    next_generation = []\n",
    "    while len(next_generation) < population_size:\n",
    "        parent1, parent2 = random.sample(breeding_population, 2)\n",
    "        child = mate(parent1, parent2)\n",
    "        next_generation.append(child)\n",
    "\n",
    "    population = next_generation\n",
    "\n",
    "average_fitness = sum(rat.fitness() for rat in population) / population_size\n",
    "print(\"Average fitness of final generation:\", average_fitness)\n"
   ]
  }
 ],
 "metadata": {
  "kernelspec": {
   "display_name": "bio",
   "language": "python",
   "name": "python3"
  },
  "language_info": {
   "codemirror_mode": {
    "name": "ipython",
    "version": 3
   },
   "file_extension": ".py",
   "mimetype": "text/x-python",
   "name": "python",
   "nbconvert_exporter": "python",
   "pygments_lexer": "ipython3",
   "version": "3.12.0"
  }
 },
 "nbformat": 4,
 "nbformat_minor": 2
}
