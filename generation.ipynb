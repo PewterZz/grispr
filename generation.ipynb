{
 "cells": [
  {
   "cell_type": "code",
   "execution_count": 37,
   "metadata": {},
   "outputs": [
    {
     "name": "stdout",
     "output_type": "stream",
     "text": [
      "Rat 1: Genome: ['MP:0002638', 'MP:0004738', 'MP:0000410', 'MP:0000130', 'MP:0001713', 'MP:0000923', 'MP:0001191', 'MP:0000376', 'MP:0003449', 'MP:0002276'], Fitness: -3.20\n",
      "Rat 2: Genome: ['MP:0004738', 'MP:0000130', 'MP:0002638', 'MP:0002276', 'MP:0001713', 'MP:0000410', 'MP:0001191', 'MP:0000376', 'MP:0003449', 'MP:0000923'], Fitness: -3.20\n",
      "Rat 3: Genome: ['MP:0003449', 'MP:0002276', 'MP:0000410', 'MP:0001713', 'MP:0004738', 'MP:0002638', 'MP:0000130', 'MP:0001191', 'MP:0000376', 'MP:0000923'], Fitness: -3.20\n",
      "Rat 4: Genome: ['MP:0003449', 'MP:0000923', 'MP:0002638', 'MP:0004738', 'MP:0000130', 'MP:0001713', 'MP:0000376', 'MP:0002276', 'MP:0001191', 'MP:0000410'], Fitness: -3.20\n",
      "Rat 5: Genome: ['MP:0002276', 'MP:0001191', 'MP:0002638', 'MP:0003449', 'MP:0004738', 'MP:0000410', 'MP:0000376', 'MP:0001713', 'MP:0000130', 'MP:0000923'], Fitness: -3.20\n"
     ]
    }
   ],
   "source": [
    "import pandas as pd\n",
    "import random\n",
    "import time\n",
    "\n",
    "traits = {\n",
    "    'MP:0004738': None,  \n",
    "    'MP:0002638': None,  \n",
    "    'MP:0000376': None,\n",
    "    'MP:0003449': None,\n",
    "    'MP:0000410': None,\n",
    "    'MP:0000923': None,\n",
    "    'MP:0001713': None,\n",
    "    'MP:0002276': None,\n",
    "    'MP:0001191': None,\n",
    "    'MP:0000130': None\n",
    "}\n",
    "\n",
    "fitness_df = pd.read_csv('fitness.csv')\n",
    "for index, row in fitness_df.iterrows():\n",
    "    mp_id = row['id']\n",
    "    fitness_score = row['fitness_score']\n",
    "    if mp_id in traits:\n",
    "        traits[mp_id] = fitness_score\n",
    "        \n",
    "        \n",
    "class Rat:\n",
    "    id_counter = 1\n",
    "    \n",
    "    def __init__(self, genome=None, parent1=None, parent2=None):\n",
    "        self.genome = genome if genome else random.sample(list(traits.keys()), 10)\n",
    "        self.parent1 = parent1\n",
    "        self.parent2 = parent2\n",
    "        self.id = Rat.unique_id() \n",
    "        \n",
    "    @classmethod\n",
    "    def unique_id(cls):\n",
    "        current_id = cls.id_counter\n",
    "        cls.id_counter += 1  # Increment the ID counter\n",
    "        return current_id\n",
    "\n",
    "    def fitness(self):\n",
    "        return sum(traits[trait] for trait in self.genome if traits[trait] is not None) / len(self.genome)\n",
    "    \n",
    "random.seed(42)\n",
    "num_rats = 5\n",
    "population = [Rat() for _ in range(num_rats)]\n",
    "\n",
    "for i, rat in enumerate(population, 1):\n",
    "    print(f\"Rat {i}: Genome: {rat.genome}, Fitness: {rat.fitness():.2f}\")\n"
   ]
  },
  {
   "cell_type": "code",
   "execution_count": 38,
   "metadata": {},
   "outputs": [
    {
     "name": "stdout",
     "output_type": "stream",
     "text": [
      "Average fitness of final generation: -2.6\n",
      "(((((1,2),(1,2)),((1,2),(1,2))),(((1,2),(1,2)),((1,2),(1,2)))),((((1,2),(1,2)),((1,2),(1,2))),(((1,2),(1,2)),((1,2),(1,2)))));\n"
     ]
    }
   ],
   "source": [
    "def generate_newick_mapping_with_fitness(population, newick_map):\n",
    "    for rat in population:\n",
    "        if rat.parent1 is None or rat.parent2 is None:\n",
    "            newick_map[rat.id] = f\"{rat.id}:{rat.fitness()}\"  # Use rat's ID and fitness for initial generation\n",
    "        else:\n",
    "            # Fetch or default to parent IDs if Newick strings are not available\n",
    "            parent1_newick = newick_map.get(rat.parent1.id, f\"{rat.parent1.id}:{rat.parent1.fitness()}\")\n",
    "            parent2_newick = newick_map.get(rat.parent2.id, f\"{rat.parent2.id}:{rat.parent2.fitness()}\")\n",
    "            newick_map[rat.id] = f\"({parent1_newick},{parent2_newick}):{rat.fitness()}\"\n",
    "    return newick_map\n",
    "\n",
    "# Initialize an empty Newick map\n",
    "newick_map = {}\n",
    "\n",
    "\n",
    "def mate(rat1, rat2):\n",
    "    child_genome = rat1.genome[:5] + rat2.genome[5:]\n",
    "    if random.random() < mutation_rate:\n",
    "        child_genome[random.randint(0, 9)] = random.choice(list(traits.keys()))\n",
    "    return Rat(genome=child_genome, parent1=rat1, parent2=rat2)\n",
    "\n",
    "generations = 5\n",
    "mutation_rate = 0.05 \n",
    "\n",
    "for _ in range(generations):    \n",
    "    population.sort(key=lambda rat: rat.fitness(), reverse=True)\n",
    "    breeding_population = population[:num_rats // 2]\n",
    "\n",
    "    next_generation = []\n",
    "    while len(next_generation) < num_rats:\n",
    "        parent1, parent2 = random.sample(breeding_population, 2)\n",
    "        child = mate(parent1, parent2)\n",
    "        next_generation.append(child)\n",
    "\n",
    "    population = next_generation\n",
    "    newick_map = generate_newick_mapping(population, newick_map)\n",
    "\n",
    "average_fitness = sum(rat.fitness() for rat in population) / num_rats\n",
    "print(\"Average fitness of final generation:\", average_fitness)\n",
    "\n",
    "final_generation_tree = newick_map[population[-1].id] + \";\"\n",
    "\n",
    "print(final_generation_tree)"
   ]
  },
  {
   "cell_type": "code",
   "execution_count": 39,
   "metadata": {},
   "outputs": [
    {
     "data": {
      "text/plain": [
       "<Figure size 1000x600 with 0 Axes>"
      ]
     },
     "metadata": {},
     "output_type": "display_data"
    },
    {
     "data": {
      "image/png": "[encoded data removed]",
      "text/plain": [
       "<Figure size 640x480 with 1 Axes>"
      ]
     },
     "metadata": {},
     "output_type": "display_data"
    }
   ],
   "source": [
    "from Bio import Phylo\n",
    "import matplotlib.pyplot as plt\n",
    "import io\n",
    "\n",
    "# Assuming final_generation_tree is your Newick string\n",
    "newick_string = final_generation_tree\n",
    "\n",
    "# Parse the Newick string\n",
    "tree = Phylo.read(io.StringIO(newick_string), \"newick\")\n",
    "\n",
    "# Optionally, set the width and height of the figure (adjust as needed)\n",
    "plt.figure(figsize=(10, 6))\n",
    "\n",
    "# Plot the tree with fitness scores included in node labels\n",
    "Phylo.draw(tree, label_func=lambda x: x.name, do_show=False)\n",
    "\n",
    "# Optionally, save the plot to a file\n",
    "plt.savefig(\"tree_visualization.png\")\n",
    "\n",
    "# Show the plot\n",
    "plt.show()\n"
   ]
  },
  {
   "cell_type": "code",
   "execution_count": 33,
   "metadata": {},
   "outputs": [
    {
     "name": "stdout",
     "output_type": "stream",
     "text": [
      "(21:122:123:124:125:126:127:128:129:130:131:132:133:134:135:136:137:138:139:140:1):1;(41:242:243:244:245:246:247:248:249:250:251:252:253:254:255:256:257:258:259:260:2):2;(61:362:363:364:365:366:367:368:369:370:371:372:373:374:375:376:377:378:379:380:3):3;(81:482:483:484:485:486:487:488:489:490:491:492:493:494:495:496:497:498:499:4100:4):4;(101:5102:5103:5104:5105:5106:5107:5108:5109:5110:5111:5112:5113:5114:5115:5116:5117:5118:5119:5120:5):5\n"
     ]
    }
   ],
   "source": [
    "import random\n",
    "import pandas as pd\n",
    "\n",
    "# Define the traits and load fitness scores\n",
    "traits = {\n",
    "    'MP:0004738': None,\n",
    "    'MP:0002638': None,\n",
    "    'MP:0000376': None,\n",
    "    'MP:0003449': None,\n",
    "    'MP:0000410': None,\n",
    "    'MP:0000923': None,\n",
    "    'MP:0001713': None,\n",
    "    'MP:0002276': None,\n",
    "    'MP:0001191': None,\n",
    "    'MP:0000130': None\n",
    "}\n",
    "\n",
    "fitness_df = pd.read_csv('fitness.csv')\n",
    "for index, row in fitness_df.iterrows():\n",
    "    mp_id = row['id']\n",
    "    fitness_score = row['fitness_score']\n",
    "    if mp_id in traits:\n",
    "        traits[mp_id] = fitness_score\n",
    "\n",
    "class Rat:\n",
    "    id_counter = 1\n",
    "\n",
    "    def __init__(self, genome=None, parent1=None, parent2=None):\n",
    "        self.genome = genome if genome else random.sample(list(traits.keys()), 10)\n",
    "        self.parent1 = parent1\n",
    "        self.parent2 = parent2\n",
    "        self.id = Rat.unique_id()\n",
    "\n",
    "    @classmethod\n",
    "    def unique_id(cls):\n",
    "        current_id = cls.id_counter\n",
    "        cls.id_counter += 1  # Increment the ID counter\n",
    "        return current_id\n",
    "\n",
    "    def fitness(self):\n",
    "        return sum(traits[trait] for trait in self.genome if traits[trait] is not None) / len(self.genome)\n",
    "\n",
    "# Create a list to store all rats' lineages\n",
    "all_lineages = []\n",
    "\n",
    "random.seed(42)\n",
    "num_rats = 20\n",
    "population = [Rat() for _ in range(num_rats)]\n",
    "\n",
    "generations = 5\n",
    "mutation_rate = 0.05\n",
    "\n",
    "for generation in range(generations):\n",
    "    population.sort(key=lambda rat: rat.fitness(), reverse=True)\n",
    "    breeding_population = population[:num_rats // 2]\n",
    "\n",
    "    # Create a list to store lineages for this generation\n",
    "    generation_lineages = []\n",
    "\n",
    "    for i in range(num_rats):\n",
    "        parent1, parent2 = random.sample(breeding_population, 2)\n",
    "        child = Rat(parent1=parent1, parent2=parent2)\n",
    "        generation_lineages.append(str(child.id))  # Convert to string\n",
    "        population.append(child)\n",
    "\n",
    "    # Store the lineages of this generation in all_lineages\n",
    "    all_lineages.append(generation_lineages)\n",
    "\n",
    "# Create the Newick tree representation\n",
    "def generate_newick_tree(lineages, generation):\n",
    "    if len(lineages) == 1:\n",
    "        return f\"{lineages[0]}:{generation}\"\n",
    "    else:\n",
    "        sub_trees = [generate_newick_tree([lineage], generation) for lineage in lineages]\n",
    "        return f\"({''.join(sub_trees)}):{generation}\"\n",
    "\n",
    "newick_trees = [generate_newick_tree(lineages, generation + 1) for generation, lineages in enumerate(all_lineages)]\n",
    "final_newick_tree = \";\".join(newick_trees)\n",
    "\n",
    "print(final_newick_tree)\n"
   ]
  },
  {
   "cell_type": "code",
   "execution_count": 34,
   "metadata": {},
   "outputs": [
    {
     "ename": "NewickError",
     "evalue": "Text after semicolon in Newick tree: (",
     "output_type": "error",
     "traceback": [
      "\u001b[1;31m---------------------------------------------------------------------------\u001b[0m",
      "\u001b[1;31mTypeError\u001b[0m                                 Traceback (most recent call last)",
      "File \u001b[1;32mc:\\Users\\ACER\\anaconda3\\envs\\bio\\Lib\\site-packages\\Bio\\File.py:72\u001b[0m, in \u001b[0;36mas_handle\u001b[1;34m(handleish, mode, **kwargs)\u001b[0m\n\u001b[0;32m     71\u001b[0m \u001b[38;5;28;01mtry\u001b[39;00m:\n\u001b[1;32m---> 72\u001b[0m     \u001b[38;5;28;01mwith\u001b[39;00m \u001b[38;5;28;43mopen\u001b[39;49m\u001b[43m(\u001b[49m\u001b[43mhandleish\u001b[49m\u001b[43m,\u001b[49m\u001b[43m \u001b[49m\u001b[43mmode\u001b[49m\u001b[43m,\u001b[49m\u001b[43m \u001b[49m\u001b[38;5;241;43m*\u001b[39;49m\u001b[38;5;241;43m*\u001b[39;49m\u001b[43mkwargs\u001b[49m\u001b[43m)\u001b[49m \u001b[38;5;28;01mas\u001b[39;00m fp:\n\u001b[0;32m     73\u001b[0m         \u001b[38;5;28;01myield\u001b[39;00m fp\n",
      "\u001b[1;31mTypeError\u001b[0m: expected str, bytes or os.PathLike object, not StringIO",
      "\nDuring handling of the above exception, another exception occurred:\n",
      "\u001b[1;31mNewickError\u001b[0m                               Traceback (most recent call last)",
      "Cell \u001b[1;32mIn[34], line 9\u001b[0m\n\u001b[0;32m      6\u001b[0m newick_string \u001b[38;5;241m=\u001b[39m final_newick_tree\n\u001b[0;32m      8\u001b[0m \u001b[38;5;66;03m# Parse the Newick string\u001b[39;00m\n\u001b[1;32m----> 9\u001b[0m tree \u001b[38;5;241m=\u001b[39m \u001b[43mPhylo\u001b[49m\u001b[38;5;241;43m.\u001b[39;49m\u001b[43mread\u001b[49m\u001b[43m(\u001b[49m\u001b[43mio\u001b[49m\u001b[38;5;241;43m.\u001b[39;49m\u001b[43mStringIO\u001b[49m\u001b[43m(\u001b[49m\u001b[43mnewick_string\u001b[49m\u001b[43m)\u001b[49m\u001b[43m,\u001b[49m\u001b[43m \u001b[49m\u001b[38;5;124;43m\"\u001b[39;49m\u001b[38;5;124;43mnewick\u001b[39;49m\u001b[38;5;124;43m\"\u001b[39;49m\u001b[43m)\u001b[49m\n\u001b[0;32m     11\u001b[0m \u001b[38;5;66;03m# Plot the tree\u001b[39;00m\n\u001b[0;32m     12\u001b[0m plt\u001b[38;5;241m.\u001b[39mfigure(figsize\u001b[38;5;241m=\u001b[39m(\u001b[38;5;241m10\u001b[39m, \u001b[38;5;241m6\u001b[39m))\n",
      "File \u001b[1;32mc:\\Users\\ACER\\anaconda3\\envs\\bio\\Lib\\site-packages\\Bio\\Phylo\\_io.py:60\u001b[0m, in \u001b[0;36mread\u001b[1;34m(file, format, **kwargs)\u001b[0m\n\u001b[0;32m     58\u001b[0m \u001b[38;5;28;01mtry\u001b[39;00m:\n\u001b[0;32m     59\u001b[0m     tree_gen \u001b[38;5;241m=\u001b[39m parse(file, \u001b[38;5;28mformat\u001b[39m, \u001b[38;5;241m*\u001b[39m\u001b[38;5;241m*\u001b[39mkwargs)\n\u001b[1;32m---> 60\u001b[0m     tree \u001b[38;5;241m=\u001b[39m \u001b[38;5;28;43mnext\u001b[39;49m\u001b[43m(\u001b[49m\u001b[43mtree_gen\u001b[49m\u001b[43m)\u001b[49m\n\u001b[0;32m     61\u001b[0m \u001b[38;5;28;01mexcept\u001b[39;00m \u001b[38;5;167;01mStopIteration\u001b[39;00m:\n\u001b[0;32m     62\u001b[0m     \u001b[38;5;28;01mraise\u001b[39;00m \u001b[38;5;167;01mValueError\u001b[39;00m(\u001b[38;5;124m\"\u001b[39m\u001b[38;5;124mThere are no trees in this file.\u001b[39m\u001b[38;5;124m\"\u001b[39m) \u001b[38;5;28;01mfrom\u001b[39;00m \u001b[38;5;28;01mNone\u001b[39;00m\n",
      "File \u001b[1;32mc:\\Users\\ACER\\anaconda3\\envs\\bio\\Lib\\site-packages\\Bio\\Phylo\\_io.py:49\u001b[0m, in \u001b[0;36mparse\u001b[1;34m(file, format, **kwargs)\u001b[0m\n\u001b[0;32m     34\u001b[0m \u001b[38;5;250m\u001b[39m\u001b[38;5;124;03m\"\"\"Parse a file iteratively, and yield each of the trees it contains.\u001b[39;00m\n\u001b[0;32m     35\u001b[0m \n\u001b[0;32m     36\u001b[0m \u001b[38;5;124;03mIf a file only contains one tree, this still returns an iterable object that\u001b[39;00m\n\u001b[1;32m   (...)\u001b[0m\n\u001b[0;32m     46\u001b[0m \n\u001b[0;32m     47\u001b[0m \u001b[38;5;124;03m\"\"\"\u001b[39;00m\n\u001b[0;32m     48\u001b[0m \u001b[38;5;28;01mwith\u001b[39;00m File\u001b[38;5;241m.\u001b[39mas_handle(file) \u001b[38;5;28;01mas\u001b[39;00m fp:\n\u001b[1;32m---> 49\u001b[0m     \u001b[38;5;28;01myield from\u001b[39;00m \u001b[38;5;28mgetattr\u001b[39m(supported_formats[\u001b[38;5;28mformat\u001b[39m], \u001b[38;5;124m\"\u001b[39m\u001b[38;5;124mparse\u001b[39m\u001b[38;5;124m\"\u001b[39m)(fp, \u001b[38;5;241m*\u001b[39m\u001b[38;5;241m*\u001b[39mkwargs)\n",
      "File \u001b[1;32mc:\\Users\\ACER\\anaconda3\\envs\\bio\\Lib\\site-packages\\Bio\\Phylo\\NewickIO.py:129\u001b[0m, in \u001b[0;36mParser.parse\u001b[1;34m(self, values_are_confidence, comments_are_confidence, rooted)\u001b[0m\n\u001b[0;32m    126\u001b[0m         buf \u001b[38;5;241m=\u001b[39m \u001b[38;5;124m\"\u001b[39m\u001b[38;5;124m\"\u001b[39m\n\u001b[0;32m    127\u001b[0m \u001b[38;5;28;01mif\u001b[39;00m buf:\n\u001b[0;32m    128\u001b[0m     \u001b[38;5;66;03m# Last tree is missing a terminal ';' character -- that's OK\u001b[39;00m\n\u001b[1;32m--> 129\u001b[0m     \u001b[38;5;28;01myield\u001b[39;00m \u001b[38;5;28;43mself\u001b[39;49m\u001b[38;5;241;43m.\u001b[39;49m\u001b[43m_parse_tree\u001b[49m\u001b[43m(\u001b[49m\u001b[43mbuf\u001b[49m\u001b[43m)\u001b[49m\n",
      "File \u001b[1;32mc:\\Users\\ACER\\anaconda3\\envs\\bio\\Lib\\site-packages\\Bio\\Phylo\\NewickIO.py:209\u001b[0m, in \u001b[0;36mParser._parse_tree\u001b[1;34m(self, text)\u001b[0m\n\u001b[0;32m    207\u001b[0m \u001b[38;5;28;01mtry\u001b[39;00m:\n\u001b[0;32m    208\u001b[0m     next_token \u001b[38;5;241m=\u001b[39m \u001b[38;5;28mnext\u001b[39m(tokens)\n\u001b[1;32m--> 209\u001b[0m     \u001b[38;5;28;01mraise\u001b[39;00m NewickError(\n\u001b[0;32m    210\u001b[0m         \u001b[38;5;124mf\u001b[39m\u001b[38;5;124m\"\u001b[39m\u001b[38;5;124mText after semicolon in Newick tree: \u001b[39m\u001b[38;5;132;01m{\u001b[39;00mnext_token\u001b[38;5;241m.\u001b[39mgroup()\u001b[38;5;132;01m}\u001b[39;00m\u001b[38;5;124m\"\u001b[39m\n\u001b[0;32m    211\u001b[0m     )\n\u001b[0;32m    212\u001b[0m \u001b[38;5;28;01mexcept\u001b[39;00m \u001b[38;5;167;01mStopIteration\u001b[39;00m:\n\u001b[0;32m    213\u001b[0m     \u001b[38;5;28;01mpass\u001b[39;00m\n",
      "\u001b[1;31mNewickError\u001b[0m: Text after semicolon in Newick tree: ("
     ]
    }
   ],
   "source": [
    "from Bio import Phylo\n",
    "import matplotlib.pyplot as plt\n",
    "import io\n",
    "\n",
    "# Assuming final_newick_tree is your Newick string\n",
    "newick_string = final_newick_tree\n",
    "\n",
    "# Parse the Newick string\n",
    "tree = Phylo.read(io.StringIO(newick_string), \"newick\")\n",
    "\n",
    "# Plot the tree\n",
    "plt.figure(figsize=(10, 6))\n",
    "Phylo.draw(tree, label_func=lambda x: x.name.split(\":\")[0], do_show=False)\n",
    "\n",
    "# Optionally, save the plot to a file\n",
    "plt.savefig(\"tree_visualization.png\")\n",
    "\n",
    "# Show the tree plot\n",
    "plt.show()\n"
   ]
  }
 ],
 "metadata": {
  "kernelspec": {
   "display_name": "bio",
   "language": "python",
   "name": "python3"
  },
  "language_info": {
   "codemirror_mode": {
    "name": "ipython",
    "version": 3
   },
   "file_extension": ".py",
   "mimetype": "text/x-python",
   "name": "python",
   "nbconvert_exporter": "python",
   "pygments_lexer": "ipython3",
   "version": "3.12.0"
  }
 },
 "nbformat": 4,
 "nbformat_minor": 2
}
